{
  "nbformat": 4,
  "nbformat_minor": 0,
  "metadata": {
    "colab": {
      "provenance": []
    },
    "kernelspec": {
      "name": "python3",
      "display_name": "Python 3"
    },
    "language_info": {
      "name": "python"
    }
  },
  "cells": [
    {
      "cell_type": "code",
      "execution_count": null,
      "metadata": {
        "id": "qqpKUz_P29I7"
      },
      "outputs": [],
      "source": [
        "Introduction Of Python\n",
        "Programing language:-\n",
        "1.A programming language is a formal language for a creating instruction for a computer to follow.\n",
        "2.Set of rules and symbols that define the process of computer program.\n",
        "Or in anoter word,whatever the way you  want to instruction in computer that is known as programming language.\n",
        "\n",
        "WHY NEED PROGAMMING LANGUAGE?\n",
        "Interaction with computer\n",
        "Software Programmes\n",
        "Embedded device\n",
        "Robotics\n",
        "ChatGPT\n",
        "\n",
        "HOW TO LEARN PROGRAMING LANGUAGE\n",
        "basic\n",
        "syntax\n",
        "datatypes\n",
        "variable\n",
        "operators\n",
        "conditional statement\n",
        "\n",
        "WHY PYTHON ONLY\n",
        "1.widely used in the industry.\n",
        "2.widely used in data industry.\n",
        "3.a lot of libraries.(libraries mean  a group of function well written or optimse and you are going to use that.)\n",
        "4.frontend,backend,data analysis.\n",
        "5. automation\n",
        "6.image processing\n",
        "7.database\n",
        "\n",
        "Ease to learn\n",
        "versatility in webdevelopment,machine learing\n",
        "read\n",
        "a lot of libraies\n",
        "huge active community.\n",
        "\n",
        "CODE mean provide instruction to computer.\n",
        "IDE = INTEGRATED DEVELOPMENT ENVIRONMENT.it is a place where we write a code and excute directly.\n",
        "ex; v.s code,google colab,pycham.\n",
        "\n",
        "python is develop by guid van rossen 1991.\n"
      ]
    }
  ]
}