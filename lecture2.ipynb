{
  "nbformat": 4,
  "nbformat_minor": 0,
  "metadata": {
    "colab": {
      "provenance": []
    },
    "kernelspec": {
      "name": "python3",
      "display_name": "Python 3"
    },
    "language_info": {
      "name": "python"
    }
  },
  "cells": [
    {
      "cell_type": "markdown",
      "source": [
        "variable/idemtifiers>> placeholder where we keep varitey of data which we can use to write logic.\n",
        "#Number>>> integers/float\n",
        "#characters>>> string in python\n",
        "#true/false>> boolean\n",
        "#none\n",
        "#complex number\n",
        "\n",
        "\n",
        "\n",
        "\n",
        "\n",
        "\n"
      ],
      "metadata": {
        "id": "F-tSiFn9HzJA"
      }
    },
    {
      "cell_type": "code",
      "execution_count": 1,
      "metadata": {
        "colab": {
          "base_uri": "https://localhost:8080/"
        },
        "id": "YZgQYh19E_gi",
        "outputId": "d876c225-585f-4b80-e8e9-0e013d70dbb3"
      },
      "outputs": [
        {
          "output_type": "stream",
          "name": "stdout",
          "text": [
            "hello world\n"
          ]
        }
      ],
      "source": [
        "\n",
        "print(\"hello world\")"
      ]
    },
    {
      "cell_type": "markdown",
      "source": [
        "variable  is a reserved memory for storing value"
      ],
      "metadata": {
        "id": "d_DbbA50Kb2a"
      }
    },
    {
      "cell_type": "code",
      "source": [
        "b = 3\n",
        "b"
      ],
      "metadata": {
        "colab": {
          "base_uri": "https://localhost:8080/"
        },
        "id": "LZgiQ9VuKd4y",
        "outputId": "b0c97a8a-ef10-4d79-fcd4-33df9ff78e54"
      },
      "execution_count": 3,
      "outputs": [
        {
          "output_type": "execute_result",
          "data": {
            "text/plain": [
              "3"
            ]
          },
          "metadata": {},
          "execution_count": 3
        }
      ]
    },
    {
      "cell_type": "markdown",
      "source": [
        "a memory space will be create with value of the variable"
      ],
      "metadata": {
        "id": "_aj3YSQDHyze"
      }
    },
    {
      "cell_type": "markdown",
      "source": [],
      "metadata": {
        "id": "GvZ3eQdLPHAi"
      }
    },
    {
      "cell_type": "code",
      "source": [],
      "metadata": {
        "id": "VDohlL8RPJfs"
      },
      "execution_count": null,
      "outputs": []
    },
    {
      "cell_type": "code",
      "source": [
        "c = \"sakshi\"\n",
        "c"
      ],
      "metadata": {
        "colab": {
          "base_uri": "https://localhost:8080/",
          "height": 36
        },
        "id": "8YrdszUMM7aW",
        "outputId": "ef3ea27b-5f9f-425a-a4f8-6381db8e8fe2"
      },
      "execution_count": 10,
      "outputs": [
        {
          "output_type": "execute_result",
          "data": {
            "text/plain": [
              "'sakshi'"
            ],
            "application/vnd.google.colaboratory.intrinsic+json": {
              "type": "string"
            }
          },
          "metadata": {},
          "execution_count": 10
        }
      ]
    },
    {
      "cell_type": "code",
      "source": [
        "b = 4.5\n",
        "\n",
        "type(b)"
      ],
      "metadata": {
        "colab": {
          "base_uri": "https://localhost:8080/"
        },
        "id": "PkrBxMssIbpD",
        "outputId": "7ebcd71c-d9a7-4644-ea7f-b5c1cc693df2"
      },
      "execution_count": 9,
      "outputs": [
        {
          "output_type": "execute_result",
          "data": {
            "text/plain": [
              "float"
            ]
          },
          "metadata": {},
          "execution_count": 9
        }
      ]
    },
    {
      "cell_type": "code",
      "source": [
        "c =True\n",
        "type(c)"
      ],
      "metadata": {
        "colab": {
          "base_uri": "https://localhost:8080/"
        },
        "id": "OWUyJLomOcd3",
        "outputId": "5a6f86f9-2bb3-4db2-9748-601acf77e1fb"
      },
      "execution_count": 11,
      "outputs": [
        {
          "output_type": "execute_result",
          "data": {
            "text/plain": [
              "bool"
            ]
          },
          "metadata": {},
          "execution_count": 11
        }
      ]
    },
    {
      "cell_type": "markdown",
      "source": [
        "True/False >it will throw an error"
      ],
      "metadata": {
        "id": "4_TtAJBWQDlM"
      }
    },
    {
      "cell_type": "code",
      "source": [
        "True-False"
      ],
      "metadata": {
        "colab": {
          "base_uri": "https://localhost:8080/"
        },
        "id": "XmNNjgbsPQ1t",
        "outputId": "e6f82224-8924-4b2a-9e27-42a064e06ef3"
      },
      "execution_count": 12,
      "outputs": [
        {
          "output_type": "execute_result",
          "data": {
            "text/plain": [
              "1"
            ]
          },
          "metadata": {},
          "execution_count": 12
        }
      ]
    },
    {
      "cell_type": "code",
      "source": [
        "com = 5+6j\n",
        "type(com)\n"
      ],
      "metadata": {
        "colab": {
          "base_uri": "https://localhost:8080/"
        },
        "id": "A6LJkKjyQUoh",
        "outputId": "1b9f0e59-9f51-4cad-c24a-9427c38ccd37"
      },
      "execution_count": 14,
      "outputs": [
        {
          "output_type": "execute_result",
          "data": {
            "text/plain": [
              "complex"
            ]
          },
          "metadata": {},
          "execution_count": 14
        }
      ]
    },
    {
      "cell_type": "code",
      "source": [
        "com.real"
      ],
      "metadata": {
        "colab": {
          "base_uri": "https://localhost:8080/"
        },
        "id": "Ct17i_TSR8Rt",
        "outputId": "3c8055f8-4274-424e-e8f2-40ed5e20071a"
      },
      "execution_count": 15,
      "outputs": [
        {
          "output_type": "execute_result",
          "data": {
            "text/plain": [
              "5.0"
            ]
          },
          "metadata": {},
          "execution_count": 15
        }
      ]
    },
    {
      "cell_type": "code",
      "source": [
        "com.imag"
      ],
      "metadata": {
        "colab": {
          "base_uri": "https://localhost:8080/"
        },
        "id": "CvNcMKapV_sa",
        "outputId": "52ba5712-5786-4e2d-c794-95fb0966c77d"
      },
      "execution_count": 18,
      "outputs": [
        {
          "output_type": "execute_result",
          "data": {
            "text/plain": [
              "6.0"
            ]
          },
          "metadata": {},
          "execution_count": 18
        }
      ]
    },
    {
      "cell_type": "markdown",
      "source": [
        "Rules of defining a variable >> a variable start with a letter alphabet, underscore  or character\n",
        "2.no space are use in variable\n",
        "3.a variable contain only alphabets,digitor underscore('_')."
      ],
      "metadata": {
        "id": "jLpQwHqcSZYc"
      }
    },
    {
      "cell_type": "markdown",
      "source": [
        "for single line comment:-\"#\""
      ],
      "metadata": {
        "id": "8cnUHP7Pa5h1"
      }
    },
    {
      "cell_type": "markdown",
      "source": [
        "comment:-code will not run"
      ],
      "metadata": {
        "id": "SwovN78HWG6Y"
      }
    },
    {
      "cell_type": "markdown",
      "source": [
        "multiple line commment - on starting line use \"\"\" or '''(three open double or single inverted commas)and on the ending line use\"\"\" or'''(three open double or single inverted commas)."
      ],
      "metadata": {
        "id": "p6FvmuJFXaM2"
      }
    },
    {
      "cell_type": "markdown",
      "source": [
        "KEYWORDS:- keyword are predefined word that holds a specific meaning and have special purpose"
      ],
      "metadata": {
        "id": "5GTmPA-hZ8F1"
      }
    },
    {
      "cell_type": "markdown",
      "source": [
        "here is a python keyword.enter any keyword to get more help."
      ],
      "metadata": {
        "id": "K4_-1Ih2WF8W"
      }
    },
    {
      "cell_type": "code",
      "source": [
        "help('keywords')"
      ],
      "metadata": {
        "colab": {
          "base_uri": "https://localhost:8080/"
        },
        "id": "JnhOk7UgUIPC",
        "outputId": "cae54e81-051a-4746-b1bc-93272af28108"
      },
      "execution_count": 20,
      "outputs": [
        {
          "output_type": "stream",
          "name": "stdout",
          "text": [
            "\n",
            "Here is a list of the Python keywords.  Enter any keyword to get more help.\n",
            "\n",
            "False               class               from                or\n",
            "None                continue            global              pass\n",
            "True                def                 if                  raise\n",
            "and                 del                 import              return\n",
            "as                  elif                in                  try\n",
            "assert              else                is                  while\n",
            "async               except              lambda              with\n",
            "await               finally             nonlocal            yield\n",
            "break               for                 not                 \n",
            "\n"
          ]
        }
      ]
    },
    {
      "cell_type": "markdown",
      "source": [
        "statment >>is foundament block of code\n",
        "statement can be of many type>>experssion,assignment,condition statement,loop"
      ],
      "metadata": {
        "id": "ToTzNW9ZfJdq"
      }
    },
    {
      "cell_type": "code",
      "source": [
        "# input output >> if you want same user to give value of variable\n",
        "name = input(\"please enter your name:\")"
      ],
      "metadata": {
        "colab": {
          "base_uri": "https://localhost:8080/"
        },
        "id": "fp3ZVdNEgP_v",
        "outputId": "5b93f06e-d66d-4544-81f5-960cb75c9fcf"
      },
      "execution_count": 21,
      "outputs": [
        {
          "name": "stdout",
          "output_type": "stream",
          "text": [
            "please enter your name:sakshi\n"
          ]
        }
      ]
    },
    {
      "cell_type": "markdown",
      "source": [
        "input actually take value as a string"
      ],
      "metadata": {
        "id": "W2tZTlBuhJAN"
      }
    },
    {
      "cell_type": "code",
      "source": [
        "print(type(name))"
      ],
      "metadata": {
        "colab": {
          "base_uri": "https://localhost:8080/"
        },
        "id": "J7Avj-JLg5ku",
        "outputId": "95746dfe-fef6-4973-bb41-a6f955f44e6e"
      },
      "execution_count": 22,
      "outputs": [
        {
          "output_type": "stream",
          "name": "stdout",
          "text": [
            "<class 'str'>\n"
          ]
        }
      ]
    },
    {
      "cell_type": "markdown",
      "source": [
        "  input actually take every value as a string"
      ],
      "metadata": {
        "id": "lr8oj7BBhbUD"
      }
    },
    {
      "cell_type": "markdown",
      "source": [
        "type casting >> caste mean to change the format"
      ],
      "metadata": {
        "id": "2ygPDpN9iHNb"
      }
    },
    {
      "cell_type": "markdown",
      "source": [
        "you can  convert str as int by using typecasting"
      ],
      "metadata": {
        "id": "lYw1sFtLhsYB"
      }
    },
    {
      "cell_type": "code",
      "source": [],
      "metadata": {
        "id": "EQJt3KwIgNVG"
      },
      "execution_count": null,
      "outputs": []
    },
    {
      "cell_type": "code",
      "source": [
        "num= 3.5\n",
        "print(type(num))\n"
      ],
      "metadata": {
        "colab": {
          "base_uri": "https://localhost:8080/"
        },
        "id": "ZCftSS0xiWXN",
        "outputId": "e8a1999a-2f2b-4513-d7cb-092061769c68"
      },
      "execution_count": 23,
      "outputs": [
        {
          "output_type": "stream",
          "name": "stdout",
          "text": [
            "<class 'float'>\n"
          ]
        }
      ]
    },
    {
      "cell_type": "markdown",
      "source": [],
      "metadata": {
        "id": "YVmnk2V1hVbl"
      }
    },
    {
      "cell_type": "code",
      "source": [
        "print(int(num))"
      ],
      "metadata": {
        "colab": {
          "base_uri": "https://localhost:8080/"
        },
        "id": "vvCZC3OxgH5Q",
        "outputId": "32e2ac72-fb74-4214-bbd9-55dbe19cbe98"
      },
      "execution_count": 24,
      "outputs": [
        {
          "output_type": "stream",
          "name": "stdout",
          "text": [
            "3\n"
          ]
        }
      ]
    },
    {
      "cell_type": "markdown",
      "source": [],
      "metadata": {
        "id": "KF0WZjKpdy1i"
      }
    },
    {
      "cell_type": "code",
      "source": [
        "bool(0)"
      ],
      "metadata": {
        "colab": {
          "base_uri": "https://localhost:8080/"
        },
        "id": "YsNQjFX6jZZW",
        "outputId": "b3108464-c754-48dd-a05a-0deaec5e8d4a"
      },
      "execution_count": 25,
      "outputs": [
        {
          "output_type": "execute_result",
          "data": {
            "text/plain": [
              "False"
            ]
          },
          "metadata": {},
          "execution_count": 25
        }
      ]
    },
    {
      "cell_type": "code",
      "source": [
        "bool(1)"
      ],
      "metadata": {
        "colab": {
          "base_uri": "https://localhost:8080/"
        },
        "id": "TxLlU9qqdogt",
        "outputId": "c733e213-cfde-4dbe-982d-8791254e68fd"
      },
      "execution_count": 26,
      "outputs": [
        {
          "output_type": "execute_result",
          "data": {
            "text/plain": [
              "True"
            ]
          },
          "metadata": {},
          "execution_count": 26
        }
      ]
    },
    {
      "cell_type": "markdown",
      "source": [],
      "metadata": {
        "id": "764JwqlSde_X"
      }
    },
    {
      "cell_type": "code",
      "source": [
        "a =\"ajay\"\n",
        "int(a)\n",
        "#error bcoz str alphabets does not convert in int"
      ],
      "metadata": {
        "colab": {
          "base_uri": "https://localhost:8080/",
          "height": 181
        },
        "id": "h9BJJB8GjtsC",
        "outputId": "40b0619e-94b8-4a0e-ece7-15904f168936"
      },
      "execution_count": 27,
      "outputs": [
        {
          "output_type": "error",
          "ename": "ValueError",
          "evalue": "invalid literal for int() with base 10: 'ajay'",
          "traceback": [
            "\u001b[0;31m---------------------------------------------------------------------------\u001b[0m",
            "\u001b[0;31mValueError\u001b[0m                                Traceback (most recent call last)",
            "\u001b[0;32m<ipython-input-27-e0bbf7c0508a>\u001b[0m in \u001b[0;36m<cell line: 0>\u001b[0;34m()\u001b[0m\n\u001b[1;32m      1\u001b[0m \u001b[0ma\u001b[0m \u001b[0;34m=\u001b[0m\u001b[0;34m\"ajay\"\u001b[0m\u001b[0;34m\u001b[0m\u001b[0;34m\u001b[0m\u001b[0m\n\u001b[0;32m----> 2\u001b[0;31m \u001b[0mint\u001b[0m\u001b[0;34m(\u001b[0m\u001b[0ma\u001b[0m\u001b[0;34m)\u001b[0m\u001b[0;34m\u001b[0m\u001b[0;34m\u001b[0m\u001b[0m\n\u001b[0m\u001b[1;32m      3\u001b[0m \u001b[0;31m#error bcoz str alphabets does not convert in int\u001b[0m\u001b[0;34m\u001b[0m\u001b[0;34m\u001b[0m\u001b[0m\n",
            "\u001b[0;31mValueError\u001b[0m: invalid literal for int() with base 10: 'ajay'"
          ]
        }
      ]
    },
    {
      "cell_type": "markdown",
      "source": [],
      "metadata": {
        "id": "EjlTD3Lxjr-X"
      }
    },
    {
      "cell_type": "markdown",
      "source": [
        "python is case sensentive programming language\n"
      ],
      "metadata": {
        "id": "t5QgJWUKkKN-"
      }
    },
    {
      "cell_type": "markdown",
      "source": [],
      "metadata": {
        "id": "J_j-IOO5khM7"
      }
    },
    {
      "cell_type": "code",
      "source": [
        "a = 1\n",
        "A =11\n",
        "print(a)\n",
        "print(A)"
      ],
      "metadata": {
        "colab": {
          "base_uri": "https://localhost:8080/"
        },
        "id": "AIyETDR5jrEE",
        "outputId": "a8aa321d-8b10-43ac-f84e-f68a0619b880"
      },
      "execution_count": 28,
      "outputs": [
        {
          "output_type": "stream",
          "name": "stdout",
          "text": [
            "1\n",
            "11\n"
          ]
        }
      ]
    },
    {
      "cell_type": "markdown",
      "source": [
        "  \n",
        "\n"
      ],
      "metadata": {
        "id": "yTtCSKSLcVsn"
      }
    },
    {
      "cell_type": "code",
      "source": [
        "#variable  should not be keyword\n",
        "print =\"ajay\"   #then if you print another word\n",
        "print(\"hello\") # it will throw error"
      ],
      "metadata": {
        "colab": {
          "base_uri": "https://localhost:8080/",
          "height": 181
        },
        "id": "yd0HrjvvlK8t",
        "outputId": "0cac45ed-9b85-4840-9952-10e9236b35b9"
      },
      "execution_count": 29,
      "outputs": [
        {
          "output_type": "error",
          "ename": "TypeError",
          "evalue": "'str' object is not callable",
          "traceback": [
            "\u001b[0;31m---------------------------------------------------------------------------\u001b[0m",
            "\u001b[0;31mTypeError\u001b[0m                                 Traceback (most recent call last)",
            "\u001b[0;32m<ipython-input-29-97d9c9978baa>\u001b[0m in \u001b[0;36m<cell line: 0>\u001b[0;34m()\u001b[0m\n\u001b[1;32m      1\u001b[0m \u001b[0;31m#variable  should not be keyword\u001b[0m\u001b[0;34m\u001b[0m\u001b[0;34m\u001b[0m\u001b[0m\n\u001b[1;32m      2\u001b[0m \u001b[0mprint\u001b[0m \u001b[0;34m=\u001b[0m\u001b[0;34m\"ajay\"\u001b[0m   \u001b[0;31m#then if you print another word\u001b[0m\u001b[0;34m\u001b[0m\u001b[0;34m\u001b[0m\u001b[0m\n\u001b[0;32m----> 3\u001b[0;31m \u001b[0mprint\u001b[0m\u001b[0;34m(\u001b[0m\u001b[0;34m\"hello\"\u001b[0m\u001b[0;34m)\u001b[0m \u001b[0;31m# it will throw error\u001b[0m\u001b[0;34m\u001b[0m\u001b[0;34m\u001b[0m\u001b[0m\n\u001b[0m",
            "\u001b[0;31mTypeError\u001b[0m: 'str' object is not callable"
          ]
        }
      ]
    },
    {
      "cell_type": "markdown",
      "source": [],
      "metadata": {
        "id": "_0hPcYeScLuo"
      }
    }
  ]
}